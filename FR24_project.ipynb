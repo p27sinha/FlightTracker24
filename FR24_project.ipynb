{
  "cells": [
    {
      "cell_type": "markdown",
      "metadata": {
        "id": "view-in-github",
        "colab_type": "text"
      },
      "source": [
        "<a href=\"https://colab.research.google.com/github/p27sinha/FlightTracker24/blob/main/FR24_project.ipynb\" target=\"_parent\"><img src=\"https://colab.research.google.com/assets/colab-badge.svg\" alt=\"Open In Colab\"/></a>"
      ]
    },
    {
      "cell_type": "code",
      "execution_count": null,
      "metadata": {
        "colab": {
          "base_uri": "https://localhost:8080/"
        },
        "id": "yV7ghe4yr8Gt",
        "outputId": "1ab84f63-0c0b-4103-9e9d-47280d0f71cf"
      },
      "outputs": [
        {
          "output_type": "stream",
          "name": "stdout",
          "text": [
            "Collecting FlightRadarAPI\n",
            "  Downloading flightradarapi-1.3.28-py3-none-any.whl (15 kB)\n",
            "Collecting brotli (from FlightRadarAPI)\n",
            "  Downloading Brotli-1.1.0-cp310-cp310-manylinux_2_5_x86_64.manylinux1_x86_64.manylinux_2_12_x86_64.manylinux2010_x86_64.whl (3.0 MB)\n",
            "\u001b[2K     \u001b[90m━━━━━━━━━━━━━━━━━━━━━━━━━━━━━━━━━━━━━━━━\u001b[0m \u001b[32m3.0/3.0 MB\u001b[0m \u001b[31m7.8 MB/s\u001b[0m eta \u001b[36m0:00:00\u001b[0m\n",
            "\u001b[?25hRequirement already satisfied: requests in /usr/local/lib/python3.10/dist-packages (from FlightRadarAPI) (2.31.0)\n",
            "Requirement already satisfied: charset-normalizer<4,>=2 in /usr/local/lib/python3.10/dist-packages (from requests->FlightRadarAPI) (3.3.2)\n",
            "Requirement already satisfied: idna<4,>=2.5 in /usr/local/lib/python3.10/dist-packages (from requests->FlightRadarAPI) (3.7)\n",
            "Requirement already satisfied: urllib3<3,>=1.21.1 in /usr/local/lib/python3.10/dist-packages (from requests->FlightRadarAPI) (2.0.7)\n",
            "Requirement already satisfied: certifi>=2017.4.17 in /usr/local/lib/python3.10/dist-packages (from requests->FlightRadarAPI) (2024.2.2)\n",
            "Installing collected packages: brotli, FlightRadarAPI\n",
            "Successfully installed FlightRadarAPI-1.3.28 brotli-1.1.0\n"
          ]
        }
      ],
      "source": [
        "pip install FlightRadarAPI"
      ]
    },
    {
      "cell_type": "code",
      "execution_count": null,
      "metadata": {
        "id": "Tz8k4YwAsCIu"
      },
      "outputs": [],
      "source": [
        "from FlightRadar24 import FlightRadar24API\n",
        "fr_api = FlightRadar24API()"
      ]
    },
    {
      "cell_type": "code",
      "execution_count": null,
      "metadata": {
        "id": "n0V15RgGsOXB"
      },
      "outputs": [],
      "source": [
        "bounds = fr_api.get_bounds_by_point(42.336808, -71.092332, 5000)\n",
        "\n",
        "flights = fr_api.get_flights(bounds = bounds)"
      ]
    },
    {
      "cell_type": "code",
      "execution_count": null,
      "metadata": {
        "id": "arldujJduf3M"
      },
      "outputs": [],
      "source": [
        "import pandas as pd"
      ]
    },
    {
      "cell_type": "code",
      "source": [
        "import matplotlib.pyplot as plt"
      ],
      "metadata": {
        "id": "_Io3E4K7KCDE"
      },
      "execution_count": null,
      "outputs": []
    },
    {
      "cell_type": "code",
      "source": [
        "# Define parameters\n",
        "airline_icao = \"SWA\"\n",
        "aircraft_type = \"B38M\"\n",
        "\n",
        "# Fetch historical flight data for the airline and aircraft type\n",
        "airline_flights = fr_api.get_flights(\n",
        "    aircraft_type=aircraft_type,\n",
        "    airline=airline_icao)"
      ],
      "metadata": {
        "id": "edkZhep9JEu2"
      },
      "execution_count": null,
      "outputs": []
    },
    {
      "cell_type": "code",
      "source": [
        "# Convert the list of dictionaries into a pandas DataFrame\n",
        "df = pd.DataFrame(airline_flights)\n",
        "print(df)"
      ],
      "metadata": {
        "colab": {
          "base_uri": "https://localhost:8080/"
        },
        "id": "Dd_bMJAfJFiy",
        "outputId": "5edf8abf-154f-4651-ed97-c7593a864670"
      },
      "execution_count": null,
      "outputs": [
        {
          "output_type": "stream",
          "name": "stdout",
          "text": [
            "                                                    0\n",
            "0   <(B38M) N8770Q - Altitude: 0 - Ground Speed: 1...\n",
            "1   <(B38M) N8827Q - Altitude: 2300 - Ground Speed...\n",
            "2   <(B38M) N8784Q - Altitude: 0 - Ground Speed: 0...\n",
            "3   <(B38M) N8718Q - Altitude: 4075 - Ground Speed...\n",
            "4   <(B38M) N8853Q - Altitude: 20675 - Ground Spee...\n",
            "5   <(B38M) N8833L - Altitude: 24075 - Ground Spee...\n",
            "6   <(B38M) N1809U - Altitude: 23025 - Ground Spee...\n",
            "7   <(B38M) N8840Q - Altitude: 40025 - Ground Spee...\n",
            "8   <(B38M) N8817L - Altitude: 34025 - Ground Spee...\n",
            "9   <(B38M) N8762Q - Altitude: 40000 - Ground Spee...\n",
            "10  <(B38M) N8742M - Altitude: 0 - Ground Speed: 1...\n",
            "11  <(B38M) N8704Q - Altitude: 2825 - Ground Speed...\n",
            "12  <(B38M) N8858K - Altitude: 38000 - Ground Spee...\n",
            "13  <(B38M) N8920Q - Altitude: 36000 - Ground Spee...\n",
            "14  <(B38M) N8745K - Altitude: 36000 - Ground Spee...\n",
            "15  <(B38M) N8911Q - Altitude: 900 - Ground Speed:...\n",
            "16  <(B38M) N8750Q - Altitude: 36000 - Ground Spee...\n",
            "17  <(B38M) N8706W - Altitude: 39750 - Ground Spee...\n",
            "18  <(B38M) N8837Q - Altitude: 37000 - Ground Spee...\n",
            "19  <(B38M) N8809L - Altitude: 0 - Ground Speed: 2...\n",
            "20  <(B38M) N8808Q - Altitude: 0 - Ground Speed: 6...\n",
            "21  <(B38M) N871HK - Altitude: 0 - Ground Speed: 1...\n",
            "22  <(B38M) N8723Q - Altitude: 4975 - Ground Speed...\n",
            "23  <(B38M) N8765Q - Altitude: 5075 - Ground Speed...\n",
            "24  <(B38M) N8741L - Altitude: 34000 - Ground Spee...\n",
            "25  <(B38M) N8862Q - Altitude: 41000 - Ground Spee...\n",
            "26  <(B38M) N8757L - Altitude: 30000 - Ground Spee...\n",
            "27  <(B38M) N8711Q - Altitude: 2400 - Ground Speed...\n",
            "28  <(B38M) N8849Q - Altitude: 38000 - Ground Spee...\n",
            "29  <(B38M) N8768Q - Altitude: 38000 - Ground Spee...\n",
            "30  <(B38M) N8839Q - Altitude: 0 - Ground Speed: 1...\n",
            "31  <(B38M) N8729H - Altitude: 41000 - Ground Spee...\n",
            "32  <(B38M) N8788L - Altitude: 25300 - Ground Spee...\n",
            "33  <(B38M) N8821S - Altitude: 0 - Ground Speed: 1...\n",
            "34  <(B38M) N8769Q - Altitude: 40000 - Ground Spee...\n",
            "35  <(B38M) N8726H - Altitude: 125 - Ground Speed:...\n",
            "36  <(B38M) N8730Q - Altitude: 26000 - Ground Spee...\n",
            "37  <(B38M) N8760L - Altitude: 12925 - Ground Spee...\n",
            "38  <(B38M) N8880G - Altitude: 0 - Ground Speed: 0...\n",
            "39  <(B38M) N8736J - Altitude: 0 - Ground Speed: 0...\n",
            "40  <(B38M) N8863Q - Altitude: 21200 - Ground Spee...\n",
            "41  <(B38M) N8790Q - Altitude: 0 - Ground Speed: 1...\n"
          ]
        }
      ]
    },
    {
      "cell_type": "code",
      "source": [
        "print(df.columns)"
      ],
      "metadata": {
        "colab": {
          "base_uri": "https://localhost:8080/"
        },
        "id": "4bGNFwi3KXED",
        "outputId": "21c9799a-0c73-4f0d-a842-6acdbe24d1de"
      },
      "execution_count": null,
      "outputs": [
        {
          "output_type": "stream",
          "name": "stdout",
          "text": [
            "RangeIndex(start=0, stop=1, step=1)\n"
          ]
        }
      ]
    },
    {
      "cell_type": "code",
      "source": [
        "# Plotting\n",
        "#plt.figure(figsize=(10, 6))\n",
        "#plt.scatter(df['longitude'], df['latitude'], color='blue', alpha=0.5)\n",
        "#plt.title('Flight Positions - SWA (B38M)')\n",
        "#plt.xlabel('Longitude')\n",
        "#plt.ylabel('Latitude')\n",
        "#plt.grid(True)\n",
        "#plt.tight_layout()\n",
        "#plt.show()"
      ],
      "metadata": {
        "id": "UY3x4j8SJVst"
      },
      "execution_count": null,
      "outputs": []
    }
  ],
  "metadata": {
    "colab": {
      "provenance": [],
      "authorship_tag": "ABX9TyPlkasuGIDzcOGVEffAxgeX",
      "include_colab_link": true
    },
    "kernelspec": {
      "display_name": "Python 3",
      "name": "python3"
    },
    "language_info": {
      "name": "python"
    }
  },
  "nbformat": 4,
  "nbformat_minor": 0
}